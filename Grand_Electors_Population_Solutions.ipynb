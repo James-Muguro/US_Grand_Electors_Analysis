{
  "nbformat": 4,
  "nbformat_minor": 0,
  "metadata": {
    "colab": {
      "provenance": [],
      "toc_visible": true
    },
    "kernelspec": {
      "name": "python3",
      "display_name": "Python 3"
    },
    "language_info": {
      "name": "python"
    }
  },
  "cells": [
    {
      "cell_type": "markdown",
      "metadata": {
        "id": "i79QmU_9PV7w"
      },
      "source": [
        "# **SQL PROGRAMMING**"
      ]
    },
    {
      "cell_type": "markdown",
      "metadata": {
        "id": "s4BDR9DTPdRW"
      },
      "source": [
        "You are provided with 2 tables: one giving the number of Grand Electors per state, the other the population per state. You are required:\n",
        "1. To join the 2 tables\n",
        "2. Your boss wants you to change the name of the \"District of Columbia\" state to its short version \"DC\". Please do that\n",
        "3. To compute the ratio between the number of grand electors and the population. Please create a new column with that ratio.\n",
        "4. To order the states by decreasing ratio of Grand Electors per capita. That will make our priority list.\n",
        "5. To compute the running total of Grand Electors in that sorted list.\n",
        "6. Independently, to compute the half of the total of Grand Electors overall (in the whole country).\n",
        "7. To filter our sorted list of states in order to keep only the (top) ones enabling us to reach the computed threshold. (the other states can be ignored). That is our target list."
      ]
    },
    {
      "cell_type": "markdown",
      "metadata": {
        "id": "nVgGePodQtdw"
      },
      "source": [
        "# **Lets connect to our Database**"
      ]
    },
    {
      "cell_type": "code",
      "metadata": {
        "colab": {
          "base_uri": "https://localhost:8080/",
          "height": 35
        },
        "id": "nn1x9eIVQ5ds",
        "outputId": "5551977e-dfd8-4cd1-fbcd-0786e1d9e32b"
      },
      "source": [
        "# We will first load the sql extension into our environment\n",
        "%load_ext sql\n",
        "\n",
        "# Then connect to our in memory sqlite database\n",
        "# NB: This database will cease to exist as soon as the database connection is closed.\n",
        "%sql sqlite://"
      ],
      "execution_count": null,
      "outputs": [
        {
          "output_type": "execute_result",
          "data": {
            "application/vnd.google.colaboratory.intrinsic+json": {
              "type": "string"
            },
            "text/plain": [
              "'Connected: @None'"
            ]
          },
          "metadata": {
            "tags": []
          },
          "execution_count": 1
        }
      ]
    },
    {
      "cell_type": "code",
      "metadata": {
        "id": "CekGD7GTRAyP"
      },
      "source": [
        "# Importing Pandas\n",
        "import pandas as pd"
      ],
      "execution_count": null,
      "outputs": []
    },
    {
      "cell_type": "markdown",
      "metadata": {
        "id": "iGd6QVv9RJoY"
      },
      "source": [
        "# **Loading our Datasets**"
      ]
    },
    {
      "cell_type": "markdown",
      "metadata": {
        "id": "2RQutdXXRU6f"
      },
      "source": [
        "Datasets used in this notebook:\n",
        "\n",
        "1. **Grand electors by State.**\n",
        "2. **Population by State.**\n"
      ]
    },
    {
      "cell_type": "code",
      "metadata": {
        "colab": {
          "base_uri": "https://localhost:8080/",
          "height": 230
        },
        "id": "3lL60cMxROQE",
        "outputId": "fb457eb5-57d4-46b9-b7db-abe8b29a7c4d"
      },
      "source": [
        "# Let's load our Grand Electors by state dataset below\n",
        "#\n",
        "with open('GrandElectors_by_state.csv','r') as f:\n",
        "    GrandElectors_by_state = pd.read_csv(f, index_col=0, encoding='utf-8')\n",
        "%sql DROP TABLE if EXISTS GrandElectors_by_state;\n",
        "%sql PERSIST GrandElectors_by_state;\n",
        "%sql SELECT * FROM GrandElectors_by_state LIMIT 5;"
      ],
      "execution_count": null,
      "outputs": [
        {
          "output_type": "stream",
          "text": [
            " * sqlite://\n",
            "Done.\n",
            " * sqlite://\n",
            " * sqlite://\n",
            "Done.\n"
          ],
          "name": "stdout"
        },
        {
          "output_type": "execute_result",
          "data": {
            "text/html": [
              "<table>\n",
              "    <thead>\n",
              "        <tr>\n",
              "            <th>State</th>\n",
              "            <th>GrandElectors</th>\n",
              "        </tr>\n",
              "    </thead>\n",
              "    <tbody>\n",
              "        <tr>\n",
              "            <td>Alabama</td>\n",
              "            <td>9</td>\n",
              "        </tr>\n",
              "        <tr>\n",
              "            <td>Alaska</td>\n",
              "            <td>3</td>\n",
              "        </tr>\n",
              "        <tr>\n",
              "            <td>Arizona</td>\n",
              "            <td>11</td>\n",
              "        </tr>\n",
              "        <tr>\n",
              "            <td>Arkansas</td>\n",
              "            <td>6</td>\n",
              "        </tr>\n",
              "        <tr>\n",
              "            <td>California</td>\n",
              "            <td>55</td>\n",
              "        </tr>\n",
              "    </tbody>\n",
              "</table>"
            ],
            "text/plain": [
              "[('Alabama', 9),\n",
              " ('Alaska', 3),\n",
              " ('Arizona', 11),\n",
              " ('Arkansas', 6),\n",
              " ('California', 55)]"
            ]
          },
          "metadata": {
            "tags": []
          },
          "execution_count": 4
        }
      ]
    },
    {
      "cell_type": "code",
      "metadata": {
        "colab": {
          "base_uri": "https://localhost:8080/",
          "height": 230
        },
        "id": "ANx_-xurSCQl",
        "outputId": "150d2c20-4662-453a-ee90-da0b90738d4f"
      },
      "source": [
        "# Let's load our Cities dataset below\n",
        "#\n",
        "with open('Population_by_state.csv','r') as f:\n",
        "    Population_by_state = pd.read_csv(f, index_col=0, encoding='utf-8')\n",
        "%sql DROP TABLE if EXISTS Population_by_state;\n",
        "%sql PERSIST Population_by_state;\n",
        "%sql SELECT * FROM Population_by_state LIMIT 5;"
      ],
      "execution_count": null,
      "outputs": [
        {
          "output_type": "stream",
          "text": [
            " * sqlite://\n",
            "Done.\n",
            " * sqlite://\n",
            " * sqlite://\n",
            "Done.\n"
          ],
          "name": "stdout"
        },
        {
          "output_type": "execute_result",
          "data": {
            "text/html": [
              "<table>\n",
              "    <thead>\n",
              "        <tr>\n",
              "            <th>State</th>\n",
              "            <th>Population</th>\n",
              "        </tr>\n",
              "    </thead>\n",
              "    <tbody>\n",
              "        <tr>\n",
              "            <td>CALIFORNIA</td>\n",
              "            <td>39144818</td>\n",
              "        </tr>\n",
              "        <tr>\n",
              "            <td>TEXAS</td>\n",
              "            <td>27469114</td>\n",
              "        </tr>\n",
              "        <tr>\n",
              "            <td>FLORIDA</td>\n",
              "            <td>20271272</td>\n",
              "        </tr>\n",
              "        <tr>\n",
              "            <td>NEW YORK</td>\n",
              "            <td>19795791</td>\n",
              "        </tr>\n",
              "        <tr>\n",
              "            <td>ILLINOIS</td>\n",
              "            <td>12859995</td>\n",
              "        </tr>\n",
              "    </tbody>\n",
              "</table>"
            ],
            "text/plain": [
              "[('CALIFORNIA', 39144818),\n",
              " ('TEXAS', 27469114),\n",
              " ('FLORIDA', 20271272),\n",
              " ('NEW YORK', 19795791),\n",
              " ('ILLINOIS', 12859995)]"
            ]
          },
          "metadata": {
            "tags": []
          },
          "execution_count": 5
        }
      ]
    },
    {
      "cell_type": "markdown",
      "metadata": {
        "id": "MQ9suAdDT11O"
      },
      "source": [
        "# **Question 1. Joining the 2 tables**"
      ]
    },
    {
      "cell_type": "code",
      "metadata": {
        "colab": {
          "base_uri": "https://localhost:8080/"
        },
        "id": "L4f2QXZlT8K2",
        "outputId": "1eade6da-07c8-447a-f356-0874961467f8"
      },
      "source": [
        "# To join the Grand electors and population datasets,\n",
        "# we will need to convert the grand elector's state colum values\n",
        "# to uppercase as below.\n",
        "%%sql\n",
        "UPDATE\n",
        "  GrandElectors_by_state\n",
        "SET\n",
        "  State = UPPER(State)"
      ],
      "execution_count": null,
      "outputs": [
        {
          "output_type": "stream",
          "text": [
            " * sqlite://\n",
            "51 rows affected.\n"
          ],
          "name": "stdout"
        },
        {
          "output_type": "execute_result",
          "data": {
            "text/plain": [
              "[]"
            ]
          },
          "metadata": {
            "tags": []
          },
          "execution_count": 6
        }
      ]
    },
    {
      "cell_type": "code",
      "metadata": {
        "colab": {
          "base_uri": "https://localhost:8080/",
          "height": 284
        },
        "id": "PxFrRkkNaC25",
        "outputId": "3f764078-384c-4e24-f725-5543ea858ea7"
      },
      "source": [
        "# After ensuring the state column which is the commob one\n",
        "# between the two tables, we can now proceed and join the tables\n",
        "# as here under\n",
        "%%sql\n",
        "SELECT GrandElectors_by_state.State, GrandElectors, Population\n",
        "FROM GrandElectors_by_state INNER JOIN Population_by_state\n",
        "     ON GrandElectors_by_state.State = Population_by_state.State\n",
        "ORDER BY Population DESC\n",
        "LIMIT 10"
      ],
      "execution_count": null,
      "outputs": [
        {
          "output_type": "stream",
          "text": [
            " * sqlite://\n",
            "Done.\n"
          ],
          "name": "stdout"
        },
        {
          "output_type": "execute_result",
          "data": {
            "text/html": [
              "<table>\n",
              "    <thead>\n",
              "        <tr>\n",
              "            <th>State</th>\n",
              "            <th>GrandElectors</th>\n",
              "            <th>Population</th>\n",
              "        </tr>\n",
              "    </thead>\n",
              "    <tbody>\n",
              "        <tr>\n",
              "            <td>CALIFORNIA</td>\n",
              "            <td>55</td>\n",
              "            <td>39144818</td>\n",
              "        </tr>\n",
              "        <tr>\n",
              "            <td>TEXAS</td>\n",
              "            <td>38</td>\n",
              "            <td>27469114</td>\n",
              "        </tr>\n",
              "        <tr>\n",
              "            <td>FLORIDA</td>\n",
              "            <td>29</td>\n",
              "            <td>20271272</td>\n",
              "        </tr>\n",
              "        <tr>\n",
              "            <td>NEW YORK</td>\n",
              "            <td>29</td>\n",
              "            <td>19795791</td>\n",
              "        </tr>\n",
              "        <tr>\n",
              "            <td>ILLINOIS</td>\n",
              "            <td>20</td>\n",
              "            <td>12859995</td>\n",
              "        </tr>\n",
              "        <tr>\n",
              "            <td>PENNSYLVANIA</td>\n",
              "            <td>20</td>\n",
              "            <td>12802503</td>\n",
              "        </tr>\n",
              "        <tr>\n",
              "            <td>OHIO</td>\n",
              "            <td>18</td>\n",
              "            <td>11613423</td>\n",
              "        </tr>\n",
              "        <tr>\n",
              "            <td>GEORGIA</td>\n",
              "            <td>16</td>\n",
              "            <td>10214860</td>\n",
              "        </tr>\n",
              "        <tr>\n",
              "            <td>NORTH CAROLINA</td>\n",
              "            <td>15</td>\n",
              "            <td>10042802</td>\n",
              "        </tr>\n",
              "        <tr>\n",
              "            <td>MICHIGAN</td>\n",
              "            <td>16</td>\n",
              "            <td>9922576</td>\n",
              "        </tr>\n",
              "    </tbody>\n",
              "</table>"
            ],
            "text/plain": [
              "[('CALIFORNIA', 55, 39144818),\n",
              " ('TEXAS', 38, 27469114),\n",
              " ('FLORIDA', 29, 20271272),\n",
              " ('NEW YORK', 29, 19795791),\n",
              " ('ILLINOIS', 20, 12859995),\n",
              " ('PENNSYLVANIA', 20, 12802503),\n",
              " ('OHIO', 18, 11613423),\n",
              " ('GEORGIA', 16, 10214860),\n",
              " ('NORTH CAROLINA', 15, 10042802),\n",
              " ('MICHIGAN', 16, 9922576)]"
            ]
          },
          "metadata": {
            "tags": []
          },
          "execution_count": 11
        }
      ]
    },
    {
      "cell_type": "markdown",
      "metadata": {
        "id": "re55p1tfd8aq"
      },
      "source": [
        "# **Question Two: Changing District of Colombia to DC**"
      ]
    },
    {
      "cell_type": "code",
      "metadata": {
        "colab": {
          "base_uri": "https://localhost:8080/"
        },
        "id": "nDAmvwZoeGci",
        "outputId": "ce66afdf-2764-4b8f-c77f-b310073ff824"
      },
      "source": [
        "# We will change the name of of the \"District of Columbia\" in the Grand Elector by state dataset\n",
        "# to its short version \"DC\"\n",
        "%%sql\n",
        "UPDATE GrandElectors_by_state\n",
        "SET\n",
        "    State = 'DC'\n",
        "WHERE\n",
        "    State = 'DISTRICT OF COLUMBIA';"
      ],
      "execution_count": null,
      "outputs": [
        {
          "output_type": "stream",
          "text": [
            " * sqlite://\n",
            "1 rows affected.\n"
          ],
          "name": "stdout"
        },
        {
          "output_type": "execute_result",
          "data": {
            "text/plain": [
              "[]"
            ]
          },
          "metadata": {
            "tags": []
          },
          "execution_count": 20
        }
      ]
    },
    {
      "cell_type": "code",
      "metadata": {
        "colab": {
          "base_uri": "https://localhost:8080/"
        },
        "id": "J9y0ZyvMqyK3",
        "outputId": "9a4bed57-990a-4eef-abaf-a34b7aa9886d"
      },
      "source": [
        "# We will change the name of of the \"District of Columbia\" in the Population by state dataset\n",
        "# to its short version \"DC\"\n",
        "%%sql\n",
        "UPDATE Population_by_state\n",
        "SET\n",
        "    State = 'DC'\n",
        "WHERE\n",
        "    State = 'DISTRICT OF COLUMBIA';"
      ],
      "execution_count": null,
      "outputs": [
        {
          "output_type": "stream",
          "text": [
            " * sqlite://\n",
            "1 rows affected.\n"
          ],
          "name": "stdout"
        },
        {
          "output_type": "execute_result",
          "data": {
            "text/plain": [
              "[]"
            ]
          },
          "metadata": {
            "tags": []
          },
          "execution_count": 21
        }
      ]
    },
    {
      "cell_type": "code",
      "metadata": {
        "colab": {
          "base_uri": "https://localhost:8080/"
        },
        "id": "fhWH3YIjwp0f",
        "outputId": "9605dac4-71a4-46c2-aa30-74ed5e7f8ab3"
      },
      "source": [
        "# Lets now create a new table after joining and renaming District of Columbia\n",
        "# this will make our work easier\n",
        "%%sql\n",
        "CREATE TABLE US_Voters_data\n",
        "(\n",
        "  State varchar(255),\n",
        "  Population float,\n",
        "  GrandElectors float\n",
        ");\n",
        "\n",
        "INSERT INTO US_Voters_data(State, Population, GrandElectors)\n",
        "SELECT GrandElectors_by_state.State, Population_by_state.Population, GrandElectors_by_state.GrandElectors\n",
        "FROM GrandElectors_by_state\n",
        "INNER JOIN Population_by_state on GrandElectors_by_state.State = Population_by_state.State\n"
      ],
      "execution_count": null,
      "outputs": [
        {
          "output_type": "stream",
          "text": [
            " * sqlite://\n",
            "Done.\n",
            "51 rows affected.\n"
          ],
          "name": "stdout"
        },
        {
          "output_type": "execute_result",
          "data": {
            "text/plain": [
              "[]"
            ]
          },
          "metadata": {
            "tags": []
          },
          "execution_count": 92
        }
      ]
    },
    {
      "cell_type": "markdown",
      "metadata": {
        "id": "wZ4t2Cygq7of"
      },
      "source": [
        "# **Question Three: Compute the ratio between the number of grand electors and the population**"
      ]
    },
    {
      "cell_type": "code",
      "metadata": {
        "colab": {
          "base_uri": "https://localhost:8080/",
          "height": 1000
        },
        "id": "hACGRyuhrHtf",
        "outputId": "1e1b8dad-28f3-42fb-d5fc-f10a93b7f9fb"
      },
      "source": [
        "# Now we will calcualte the ratio between grand electors and population for each state\n",
        "# as below\n",
        "%%sql\n",
        "SELECT * , (Population)/(GrandElectors) as Ratio FROM US_Voters_data"
      ],
      "execution_count": null,
      "outputs": [
        {
          "output_type": "stream",
          "text": [
            " * sqlite://\n",
            "Done.\n"
          ],
          "name": "stdout"
        },
        {
          "output_type": "execute_result",
          "data": {
            "text/html": [
              "<table>\n",
              "    <thead>\n",
              "        <tr>\n",
              "            <th>State</th>\n",
              "            <th>Population</th>\n",
              "            <th>GrandElectors</th>\n",
              "            <th>Ratio</th>\n",
              "        </tr>\n",
              "    </thead>\n",
              "    <tbody>\n",
              "        <tr>\n",
              "            <td>ALABAMA</td>\n",
              "            <td>4858979.0</td>\n",
              "            <td>9.0</td>\n",
              "            <td>539886.5555555555</td>\n",
              "        </tr>\n",
              "        <tr>\n",
              "            <td>ALASKA</td>\n",
              "            <td>738432.0</td>\n",
              "            <td>3.0</td>\n",
              "            <td>246144.0</td>\n",
              "        </tr>\n",
              "        <tr>\n",
              "            <td>ARIZONA</td>\n",
              "            <td>6828065.0</td>\n",
              "            <td>11.0</td>\n",
              "            <td>620733.1818181818</td>\n",
              "        </tr>\n",
              "        <tr>\n",
              "            <td>ARKANSAS</td>\n",
              "            <td>2978204.0</td>\n",
              "            <td>6.0</td>\n",
              "            <td>496367.3333333333</td>\n",
              "        </tr>\n",
              "        <tr>\n",
              "            <td>CALIFORNIA</td>\n",
              "            <td>39144818.0</td>\n",
              "            <td>55.0</td>\n",
              "            <td>711723.9636363636</td>\n",
              "        </tr>\n",
              "        <tr>\n",
              "            <td>COLORADO</td>\n",
              "            <td>5456574.0</td>\n",
              "            <td>9.0</td>\n",
              "            <td>606286.0</td>\n",
              "        </tr>\n",
              "        <tr>\n",
              "            <td>CONNECTICUT</td>\n",
              "            <td>3590886.0</td>\n",
              "            <td>7.0</td>\n",
              "            <td>512983.71428571426</td>\n",
              "        </tr>\n",
              "        <tr>\n",
              "            <td>DC</td>\n",
              "            <td>672228.0</td>\n",
              "            <td>3.0</td>\n",
              "            <td>224076.0</td>\n",
              "        </tr>\n",
              "        <tr>\n",
              "            <td>DELAWARE</td>\n",
              "            <td>945934.0</td>\n",
              "            <td>3.0</td>\n",
              "            <td>315311.3333333333</td>\n",
              "        </tr>\n",
              "        <tr>\n",
              "            <td>FLORIDA</td>\n",
              "            <td>20271272.0</td>\n",
              "            <td>29.0</td>\n",
              "            <td>699009.3793103448</td>\n",
              "        </tr>\n",
              "        <tr>\n",
              "            <td>GEORGIA</td>\n",
              "            <td>10214860.0</td>\n",
              "            <td>16.0</td>\n",
              "            <td>638428.75</td>\n",
              "        </tr>\n",
              "        <tr>\n",
              "            <td>HAWAII</td>\n",
              "            <td>1431603.0</td>\n",
              "            <td>4.0</td>\n",
              "            <td>357900.75</td>\n",
              "        </tr>\n",
              "        <tr>\n",
              "            <td>IDAHO</td>\n",
              "            <td>1654930.0</td>\n",
              "            <td>4.0</td>\n",
              "            <td>413732.5</td>\n",
              "        </tr>\n",
              "        <tr>\n",
              "            <td>ILLINOIS</td>\n",
              "            <td>12859995.0</td>\n",
              "            <td>20.0</td>\n",
              "            <td>642999.75</td>\n",
              "        </tr>\n",
              "        <tr>\n",
              "            <td>INDIANA</td>\n",
              "            <td>6619680.0</td>\n",
              "            <td>11.0</td>\n",
              "            <td>601789.0909090909</td>\n",
              "        </tr>\n",
              "        <tr>\n",
              "            <td>IOWA</td>\n",
              "            <td>3123899.0</td>\n",
              "            <td>6.0</td>\n",
              "            <td>520649.8333333333</td>\n",
              "        </tr>\n",
              "        <tr>\n",
              "            <td>KANSAS</td>\n",
              "            <td>2911641.0</td>\n",
              "            <td>6.0</td>\n",
              "            <td>485273.5</td>\n",
              "        </tr>\n",
              "        <tr>\n",
              "            <td>KENTUCKY</td>\n",
              "            <td>4425092.0</td>\n",
              "            <td>8.0</td>\n",
              "            <td>553136.5</td>\n",
              "        </tr>\n",
              "        <tr>\n",
              "            <td>LOUISIANA</td>\n",
              "            <td>4670724.0</td>\n",
              "            <td>8.0</td>\n",
              "            <td>583840.5</td>\n",
              "        </tr>\n",
              "        <tr>\n",
              "            <td>MAINE</td>\n",
              "            <td>1329328.0</td>\n",
              "            <td>4.0</td>\n",
              "            <td>332332.0</td>\n",
              "        </tr>\n",
              "        <tr>\n",
              "            <td>MARYLAND</td>\n",
              "            <td>6006401.0</td>\n",
              "            <td>10.0</td>\n",
              "            <td>600640.1</td>\n",
              "        </tr>\n",
              "        <tr>\n",
              "            <td>MASSACHUSETTS</td>\n",
              "            <td>6794422.0</td>\n",
              "            <td>11.0</td>\n",
              "            <td>617674.7272727273</td>\n",
              "        </tr>\n",
              "        <tr>\n",
              "            <td>MICHIGAN</td>\n",
              "            <td>9922576.0</td>\n",
              "            <td>16.0</td>\n",
              "            <td>620161.0</td>\n",
              "        </tr>\n",
              "        <tr>\n",
              "            <td>MINNESOTA</td>\n",
              "            <td>5489594.0</td>\n",
              "            <td>10.0</td>\n",
              "            <td>548959.4</td>\n",
              "        </tr>\n",
              "        <tr>\n",
              "            <td>MISSISSIPPI</td>\n",
              "            <td>2992333.0</td>\n",
              "            <td>6.0</td>\n",
              "            <td>498722.1666666667</td>\n",
              "        </tr>\n",
              "        <tr>\n",
              "            <td>MISSOURI</td>\n",
              "            <td>6083672.0</td>\n",
              "            <td>10.0</td>\n",
              "            <td>608367.2</td>\n",
              "        </tr>\n",
              "        <tr>\n",
              "            <td>MONTANA</td>\n",
              "            <td>1032949.0</td>\n",
              "            <td>3.0</td>\n",
              "            <td>344316.3333333333</td>\n",
              "        </tr>\n",
              "        <tr>\n",
              "            <td>NEBRASKA</td>\n",
              "            <td>1896190.0</td>\n",
              "            <td>5.0</td>\n",
              "            <td>379238.0</td>\n",
              "        </tr>\n",
              "        <tr>\n",
              "            <td>NEVADA</td>\n",
              "            <td>2890845.0</td>\n",
              "            <td>6.0</td>\n",
              "            <td>481807.5</td>\n",
              "        </tr>\n",
              "        <tr>\n",
              "            <td>NEW HAMPSHIRE</td>\n",
              "            <td>1330608.0</td>\n",
              "            <td>4.0</td>\n",
              "            <td>332652.0</td>\n",
              "        </tr>\n",
              "        <tr>\n",
              "            <td>NEW JERSEY</td>\n",
              "            <td>8958013.0</td>\n",
              "            <td>14.0</td>\n",
              "            <td>639858.0714285715</td>\n",
              "        </tr>\n",
              "        <tr>\n",
              "            <td>NEW MEXICO</td>\n",
              "            <td>2085109.0</td>\n",
              "            <td>5.0</td>\n",
              "            <td>417021.8</td>\n",
              "        </tr>\n",
              "        <tr>\n",
              "            <td>NEW YORK</td>\n",
              "            <td>19795791.0</td>\n",
              "            <td>29.0</td>\n",
              "            <td>682613.4827586206</td>\n",
              "        </tr>\n",
              "        <tr>\n",
              "            <td>NORTH CAROLINA</td>\n",
              "            <td>10042802.0</td>\n",
              "            <td>15.0</td>\n",
              "            <td>669520.1333333333</td>\n",
              "        </tr>\n",
              "        <tr>\n",
              "            <td>NORTH DAKOTA</td>\n",
              "            <td>756927.0</td>\n",
              "            <td>3.0</td>\n",
              "            <td>252309.0</td>\n",
              "        </tr>\n",
              "        <tr>\n",
              "            <td>OHIO</td>\n",
              "            <td>11613423.0</td>\n",
              "            <td>18.0</td>\n",
              "            <td>645190.1666666666</td>\n",
              "        </tr>\n",
              "        <tr>\n",
              "            <td>OKLAHOMA</td>\n",
              "            <td>3911338.0</td>\n",
              "            <td>7.0</td>\n",
              "            <td>558762.5714285715</td>\n",
              "        </tr>\n",
              "        <tr>\n",
              "            <td>OREGON</td>\n",
              "            <td>4028977.0</td>\n",
              "            <td>7.0</td>\n",
              "            <td>575568.1428571428</td>\n",
              "        </tr>\n",
              "        <tr>\n",
              "            <td>PENNSYLVANIA</td>\n",
              "            <td>12802503.0</td>\n",
              "            <td>20.0</td>\n",
              "            <td>640125.15</td>\n",
              "        </tr>\n",
              "        <tr>\n",
              "            <td>RHODE ISLAND</td>\n",
              "            <td>1056298.0</td>\n",
              "            <td>4.0</td>\n",
              "            <td>264074.5</td>\n",
              "        </tr>\n",
              "        <tr>\n",
              "            <td>SOUTH CAROLINA</td>\n",
              "            <td>4896146.0</td>\n",
              "            <td>9.0</td>\n",
              "            <td>544016.2222222222</td>\n",
              "        </tr>\n",
              "        <tr>\n",
              "            <td>SOUTH DAKOTA</td>\n",
              "            <td>858469.0</td>\n",
              "            <td>3.0</td>\n",
              "            <td>286156.3333333333</td>\n",
              "        </tr>\n",
              "        <tr>\n",
              "            <td>TENNESSEE</td>\n",
              "            <td>6600299.0</td>\n",
              "            <td>11.0</td>\n",
              "            <td>600027.1818181818</td>\n",
              "        </tr>\n",
              "        <tr>\n",
              "            <td>TEXAS</td>\n",
              "            <td>27469114.0</td>\n",
              "            <td>38.0</td>\n",
              "            <td>722871.4210526316</td>\n",
              "        </tr>\n",
              "        <tr>\n",
              "            <td>UTAH</td>\n",
              "            <td>2995919.0</td>\n",
              "            <td>6.0</td>\n",
              "            <td>499319.8333333333</td>\n",
              "        </tr>\n",
              "        <tr>\n",
              "            <td>VERMONT</td>\n",
              "            <td>626042.0</td>\n",
              "            <td>3.0</td>\n",
              "            <td>208680.66666666666</td>\n",
              "        </tr>\n",
              "        <tr>\n",
              "            <td>VIRGINIA</td>\n",
              "            <td>8382993.0</td>\n",
              "            <td>13.0</td>\n",
              "            <td>644845.6153846154</td>\n",
              "        </tr>\n",
              "        <tr>\n",
              "            <td>WASHINGTON</td>\n",
              "            <td>7170351.0</td>\n",
              "            <td>12.0</td>\n",
              "            <td>597529.25</td>\n",
              "        </tr>\n",
              "        <tr>\n",
              "            <td>WEST VIRGINIA</td>\n",
              "            <td>1844128.0</td>\n",
              "            <td>5.0</td>\n",
              "            <td>368825.6</td>\n",
              "        </tr>\n",
              "        <tr>\n",
              "            <td>WISCONSIN</td>\n",
              "            <td>5771337.0</td>\n",
              "            <td>10.0</td>\n",
              "            <td>577133.7</td>\n",
              "        </tr>\n",
              "        <tr>\n",
              "            <td>WYOMING</td>\n",
              "            <td>586107.0</td>\n",
              "            <td>3.0</td>\n",
              "            <td>195369.0</td>\n",
              "        </tr>\n",
              "    </tbody>\n",
              "</table>"
            ],
            "text/plain": [
              "[('ALABAMA', 4858979.0, 9.0, 539886.5555555555),\n",
              " ('ALASKA', 738432.0, 3.0, 246144.0),\n",
              " ('ARIZONA', 6828065.0, 11.0, 620733.1818181818),\n",
              " ('ARKANSAS', 2978204.0, 6.0, 496367.3333333333),\n",
              " ('CALIFORNIA', 39144818.0, 55.0, 711723.9636363636),\n",
              " ('COLORADO', 5456574.0, 9.0, 606286.0),\n",
              " ('CONNECTICUT', 3590886.0, 7.0, 512983.71428571426),\n",
              " ('DC', 672228.0, 3.0, 224076.0),\n",
              " ('DELAWARE', 945934.0, 3.0, 315311.3333333333),\n",
              " ('FLORIDA', 20271272.0, 29.0, 699009.3793103448),\n",
              " ('GEORGIA', 10214860.0, 16.0, 638428.75),\n",
              " ('HAWAII', 1431603.0, 4.0, 357900.75),\n",
              " ('IDAHO', 1654930.0, 4.0, 413732.5),\n",
              " ('ILLINOIS', 12859995.0, 20.0, 642999.75),\n",
              " ('INDIANA', 6619680.0, 11.0, 601789.0909090909),\n",
              " ('IOWA', 3123899.0, 6.0, 520649.8333333333),\n",
              " ('KANSAS', 2911641.0, 6.0, 485273.5),\n",
              " ('KENTUCKY', 4425092.0, 8.0, 553136.5),\n",
              " ('LOUISIANA', 4670724.0, 8.0, 583840.5),\n",
              " ('MAINE', 1329328.0, 4.0, 332332.0),\n",
              " ('MARYLAND', 6006401.0, 10.0, 600640.1),\n",
              " ('MASSACHUSETTS', 6794422.0, 11.0, 617674.7272727273),\n",
              " ('MICHIGAN', 9922576.0, 16.0, 620161.0),\n",
              " ('MINNESOTA', 5489594.0, 10.0, 548959.4),\n",
              " ('MISSISSIPPI', 2992333.0, 6.0, 498722.1666666667),\n",
              " ('MISSOURI', 6083672.0, 10.0, 608367.2),\n",
              " ('MONTANA', 1032949.0, 3.0, 344316.3333333333),\n",
              " ('NEBRASKA', 1896190.0, 5.0, 379238.0),\n",
              " ('NEVADA', 2890845.0, 6.0, 481807.5),\n",
              " ('NEW HAMPSHIRE', 1330608.0, 4.0, 332652.0),\n",
              " ('NEW JERSEY', 8958013.0, 14.0, 639858.0714285715),\n",
              " ('NEW MEXICO', 2085109.0, 5.0, 417021.8),\n",
              " ('NEW YORK', 19795791.0, 29.0, 682613.4827586206),\n",
              " ('NORTH CAROLINA', 10042802.0, 15.0, 669520.1333333333),\n",
              " ('NORTH DAKOTA', 756927.0, 3.0, 252309.0),\n",
              " ('OHIO', 11613423.0, 18.0, 645190.1666666666),\n",
              " ('OKLAHOMA', 3911338.0, 7.0, 558762.5714285715),\n",
              " ('OREGON', 4028977.0, 7.0, 575568.1428571428),\n",
              " ('PENNSYLVANIA', 12802503.0, 20.0, 640125.15),\n",
              " ('RHODE ISLAND', 1056298.0, 4.0, 264074.5),\n",
              " ('SOUTH CAROLINA', 4896146.0, 9.0, 544016.2222222222),\n",
              " ('SOUTH DAKOTA', 858469.0, 3.0, 286156.3333333333),\n",
              " ('TENNESSEE', 6600299.0, 11.0, 600027.1818181818),\n",
              " ('TEXAS', 27469114.0, 38.0, 722871.4210526316),\n",
              " ('UTAH', 2995919.0, 6.0, 499319.8333333333),\n",
              " ('VERMONT', 626042.0, 3.0, 208680.66666666666),\n",
              " ('VIRGINIA', 8382993.0, 13.0, 644845.6153846154),\n",
              " ('WASHINGTON', 7170351.0, 12.0, 597529.25),\n",
              " ('WEST VIRGINIA', 1844128.0, 5.0, 368825.6),\n",
              " ('WISCONSIN', 5771337.0, 10.0, 577133.7),\n",
              " ('WYOMING', 586107.0, 3.0, 195369.0)]"
            ]
          },
          "metadata": {
            "tags": []
          },
          "execution_count": 93
        }
      ]
    },
    {
      "cell_type": "markdown",
      "metadata": {
        "id": "i9BN2Ruqz82X"
      },
      "source": [
        "# **Question 4: Order the states by decreasing ratio of Grand Electors per capita**"
      ]
    },
    {
      "cell_type": "code",
      "metadata": {
        "colab": {
          "base_uri": "https://localhost:8080/",
          "height": 494
        },
        "id": "aoCIfVXu0ih8",
        "outputId": "e1bd73e9-ac02-4c89-c1c5-2a9026e0452b"
      },
      "source": [
        "# After calculating the grand electors per capita,\n",
        "# we will now order the data in descending order and have our priority list of\n",
        "# at least the top 20 states\n",
        "# as here under\n",
        "%%sql\n",
        "SELECT * , (Population)/(GrandElectors) as Ratio FROM US_Voters_data\n",
        "ORDER BY Ratio DESC\n",
        "LIMIT 20"
      ],
      "execution_count": null,
      "outputs": [
        {
          "output_type": "stream",
          "text": [
            " * sqlite://\n",
            "Done.\n"
          ],
          "name": "stdout"
        },
        {
          "output_type": "execute_result",
          "data": {
            "text/html": [
              "<table>\n",
              "    <thead>\n",
              "        <tr>\n",
              "            <th>State</th>\n",
              "            <th>Population</th>\n",
              "            <th>GrandElectors</th>\n",
              "            <th>Ratio</th>\n",
              "        </tr>\n",
              "    </thead>\n",
              "    <tbody>\n",
              "        <tr>\n",
              "            <td>TEXAS</td>\n",
              "            <td>27469114.0</td>\n",
              "            <td>38.0</td>\n",
              "            <td>722871.4210526316</td>\n",
              "        </tr>\n",
              "        <tr>\n",
              "            <td>CALIFORNIA</td>\n",
              "            <td>39144818.0</td>\n",
              "            <td>55.0</td>\n",
              "            <td>711723.9636363636</td>\n",
              "        </tr>\n",
              "        <tr>\n",
              "            <td>FLORIDA</td>\n",
              "            <td>20271272.0</td>\n",
              "            <td>29.0</td>\n",
              "            <td>699009.3793103448</td>\n",
              "        </tr>\n",
              "        <tr>\n",
              "            <td>NEW YORK</td>\n",
              "            <td>19795791.0</td>\n",
              "            <td>29.0</td>\n",
              "            <td>682613.4827586206</td>\n",
              "        </tr>\n",
              "        <tr>\n",
              "            <td>NORTH CAROLINA</td>\n",
              "            <td>10042802.0</td>\n",
              "            <td>15.0</td>\n",
              "            <td>669520.1333333333</td>\n",
              "        </tr>\n",
              "        <tr>\n",
              "            <td>OHIO</td>\n",
              "            <td>11613423.0</td>\n",
              "            <td>18.0</td>\n",
              "            <td>645190.1666666666</td>\n",
              "        </tr>\n",
              "        <tr>\n",
              "            <td>VIRGINIA</td>\n",
              "            <td>8382993.0</td>\n",
              "            <td>13.0</td>\n",
              "            <td>644845.6153846154</td>\n",
              "        </tr>\n",
              "        <tr>\n",
              "            <td>ILLINOIS</td>\n",
              "            <td>12859995.0</td>\n",
              "            <td>20.0</td>\n",
              "            <td>642999.75</td>\n",
              "        </tr>\n",
              "        <tr>\n",
              "            <td>PENNSYLVANIA</td>\n",
              "            <td>12802503.0</td>\n",
              "            <td>20.0</td>\n",
              "            <td>640125.15</td>\n",
              "        </tr>\n",
              "        <tr>\n",
              "            <td>NEW JERSEY</td>\n",
              "            <td>8958013.0</td>\n",
              "            <td>14.0</td>\n",
              "            <td>639858.0714285715</td>\n",
              "        </tr>\n",
              "        <tr>\n",
              "            <td>GEORGIA</td>\n",
              "            <td>10214860.0</td>\n",
              "            <td>16.0</td>\n",
              "            <td>638428.75</td>\n",
              "        </tr>\n",
              "        <tr>\n",
              "            <td>ARIZONA</td>\n",
              "            <td>6828065.0</td>\n",
              "            <td>11.0</td>\n",
              "            <td>620733.1818181818</td>\n",
              "        </tr>\n",
              "        <tr>\n",
              "            <td>MICHIGAN</td>\n",
              "            <td>9922576.0</td>\n",
              "            <td>16.0</td>\n",
              "            <td>620161.0</td>\n",
              "        </tr>\n",
              "        <tr>\n",
              "            <td>MASSACHUSETTS</td>\n",
              "            <td>6794422.0</td>\n",
              "            <td>11.0</td>\n",
              "            <td>617674.7272727273</td>\n",
              "        </tr>\n",
              "        <tr>\n",
              "            <td>MISSOURI</td>\n",
              "            <td>6083672.0</td>\n",
              "            <td>10.0</td>\n",
              "            <td>608367.2</td>\n",
              "        </tr>\n",
              "        <tr>\n",
              "            <td>COLORADO</td>\n",
              "            <td>5456574.0</td>\n",
              "            <td>9.0</td>\n",
              "            <td>606286.0</td>\n",
              "        </tr>\n",
              "        <tr>\n",
              "            <td>INDIANA</td>\n",
              "            <td>6619680.0</td>\n",
              "            <td>11.0</td>\n",
              "            <td>601789.0909090909</td>\n",
              "        </tr>\n",
              "        <tr>\n",
              "            <td>MARYLAND</td>\n",
              "            <td>6006401.0</td>\n",
              "            <td>10.0</td>\n",
              "            <td>600640.1</td>\n",
              "        </tr>\n",
              "        <tr>\n",
              "            <td>TENNESSEE</td>\n",
              "            <td>6600299.0</td>\n",
              "            <td>11.0</td>\n",
              "            <td>600027.1818181818</td>\n",
              "        </tr>\n",
              "        <tr>\n",
              "            <td>WASHINGTON</td>\n",
              "            <td>7170351.0</td>\n",
              "            <td>12.0</td>\n",
              "            <td>597529.25</td>\n",
              "        </tr>\n",
              "    </tbody>\n",
              "</table>"
            ],
            "text/plain": [
              "[('TEXAS', 27469114.0, 38.0, 722871.4210526316),\n",
              " ('CALIFORNIA', 39144818.0, 55.0, 711723.9636363636),\n",
              " ('FLORIDA', 20271272.0, 29.0, 699009.3793103448),\n",
              " ('NEW YORK', 19795791.0, 29.0, 682613.4827586206),\n",
              " ('NORTH CAROLINA', 10042802.0, 15.0, 669520.1333333333),\n",
              " ('OHIO', 11613423.0, 18.0, 645190.1666666666),\n",
              " ('VIRGINIA', 8382993.0, 13.0, 644845.6153846154),\n",
              " ('ILLINOIS', 12859995.0, 20.0, 642999.75),\n",
              " ('PENNSYLVANIA', 12802503.0, 20.0, 640125.15),\n",
              " ('NEW JERSEY', 8958013.0, 14.0, 639858.0714285715),\n",
              " ('GEORGIA', 10214860.0, 16.0, 638428.75),\n",
              " ('ARIZONA', 6828065.0, 11.0, 620733.1818181818),\n",
              " ('MICHIGAN', 9922576.0, 16.0, 620161.0),\n",
              " ('MASSACHUSETTS', 6794422.0, 11.0, 617674.7272727273),\n",
              " ('MISSOURI', 6083672.0, 10.0, 608367.2),\n",
              " ('COLORADO', 5456574.0, 9.0, 606286.0),\n",
              " ('INDIANA', 6619680.0, 11.0, 601789.0909090909),\n",
              " ('MARYLAND', 6006401.0, 10.0, 600640.1),\n",
              " ('TENNESSEE', 6600299.0, 11.0, 600027.1818181818),\n",
              " ('WASHINGTON', 7170351.0, 12.0, 597529.25)]"
            ]
          },
          "metadata": {
            "tags": []
          },
          "execution_count": 94
        }
      ]
    },
    {
      "cell_type": "markdown",
      "metadata": {
        "id": "BX_cQLO61X0F"
      },
      "source": [
        "# **Question Five: Compute the running total of Grand Electors in that sorted list**"
      ]
    },
    {
      "cell_type": "code",
      "metadata": {
        "colab": {
          "base_uri": "https://localhost:8080/",
          "height": 494
        },
        "id": "wSMA5-d82p-b",
        "outputId": "96637cb7-fbf6-479c-804a-de87106e4ba3"
      },
      "source": [
        "# Now that we have sorted our data, we will compute the running total\n",
        "# of the grand electors in the soreted list as below\n",
        "%%sql\n",
        "SELECT State, GrandElectors, (Population)/(GrandElectors) as Ratio,\n",
        "SUM(GrandElectors) OVER (ORDER BY State) AS RunningBalance\n",
        "FROM US_Voters_data\n",
        "ORDER BY Ratio DESC\n",
        "LIMIT 20"
      ],
      "execution_count": null,
      "outputs": [
        {
          "output_type": "stream",
          "text": [
            " * sqlite://\n",
            "Done.\n"
          ],
          "name": "stdout"
        },
        {
          "output_type": "execute_result",
          "data": {
            "text/html": [
              "<table>\n",
              "    <thead>\n",
              "        <tr>\n",
              "            <th>State</th>\n",
              "            <th>GrandElectors</th>\n",
              "            <th>Ratio</th>\n",
              "            <th>RunningBalance</th>\n",
              "        </tr>\n",
              "    </thead>\n",
              "    <tbody>\n",
              "        <tr>\n",
              "            <td>TEXAS</td>\n",
              "            <td>38</td>\n",
              "            <td>722871.4211</td>\n",
              "            <td>38</td>\n",
              "        </tr>\n",
              "        <tr>\n",
              "            <td>CALIFORNIA</td>\n",
              "            <td>55</td>\n",
              "            <td>711723.9636</td>\n",
              "            <td>93</td>\n",
              "        </tr>\n",
              "        <tr>\n",
              "            <td>FLORIDA</td>\n",
              "            <td>29</td>\n",
              "            <td>699009.3793</td>\n",
              "            <td>122</td>\n",
              "        </tr>\n",
              "        <tr>\n",
              "            <td>NEW YORK</td>\n",
              "            <td>29</td>\n",
              "            <td>682613.4828</td>\n",
              "            <td>151</td>\n",
              "        </tr>\n",
              "        <tr>\n",
              "            <td>NORTH CAROLINA</td>\n",
              "            <td>15</td>\n",
              "            <td>669520.1333</td>\n",
              "            <td>166</td>\n",
              "        </tr>\n",
              "        <tr>\n",
              "            <td>OHIO</td>\n",
              "            <td>18</td>\n",
              "            <td>645190.1667</td>\n",
              "            <td>184</td>\n",
              "        </tr>\n",
              "        <tr>\n",
              "            <td>VIRGINIA</td>\n",
              "            <td>13</td>\n",
              "            <td>644845.6154</td>\n",
              "            <td>197</td>\n",
              "        </tr>\n",
              "        <tr>\n",
              "            <td>ILLINOIS</td>\n",
              "            <td>20</td>\n",
              "            <td>642999.75</td>\n",
              "            <td>217</td>\n",
              "        </tr>\n",
              "        <tr>\n",
              "            <td>PENNSYLVANIA</td>\n",
              "            <td>20</td>\n",
              "            <td>640125.15</td>\n",
              "            <td>237</td>\n",
              "        </tr>\n",
              "        <tr>\n",
              "            <td>NEW JERSEY</td>\n",
              "            <td>14</td>\n",
              "            <td>639858.0714</td>\n",
              "            <td>251</td>\n",
              "        </tr>\n",
              "        <tr>\n",
              "            <td>GEORGIA</td>\n",
              "            <td>16</td>\n",
              "            <td>638428.75</td>\n",
              "            <td>267</td>\n",
              "        </tr>\n",
              "        <tr>\n",
              "            <td>ARIZONA</td>\n",
              "            <td>11</td>\n",
              "            <td>620733.1818</td>\n",
              "            <td>278</td>\n",
              "        </tr>\n",
              "        <tr>\n",
              "            <td>MICHIGAN</td>\n",
              "            <td>16</td>\n",
              "            <td>620161.0</td>\n",
              "            <td>294</td>\n",
              "        </tr>\n",
              "        <tr>\n",
              "            <td>MASSACHUSETTS</td>\n",
              "            <td>11</td>\n",
              "            <td>617674.7273</td>\n",
              "            <td>305</td>\n",
              "        </tr>\n",
              "        <tr>\n",
              "            <td>MISSOURI</td>\n",
              "            <td>10</td>\n",
              "            <td>608367.2</td>\n",
              "            <td>315</td>\n",
              "        </tr>\n",
              "        <tr>\n",
              "            <td>COLORADO</td>\n",
              "            <td>9</td>\n",
              "            <td>606286.0</td>\n",
              "            <td>324</td>\n",
              "        </tr>\n",
              "        <tr>\n",
              "            <td>INDIANA</td>\n",
              "            <td>11</td>\n",
              "            <td>601789.0909</td>\n",
              "            <td>335</td>\n",
              "        </tr>\n",
              "        <tr>\n",
              "            <td>MARYLAND</td>\n",
              "            <td>10</td>\n",
              "            <td>600640.1</td>\n",
              "            <td>345</td>\n",
              "        </tr>\n",
              "        <tr>\n",
              "            <td>TENNESSEE</td>\n",
              "            <td>11</td>\n",
              "            <td>600027.1818</td>\n",
              "            <td>356</td>\n",
              "        </tr>\n",
              "        <tr>\n",
              "            <td>WASHINGTON</td>\n",
              "            <td>12</td>\n",
              "            <td>597529.25</td>\n",
              "            <td>368</td>\n",
              "        </tr>\n",
              "    </tbody>\n",
              "</table>"
            ],
            "text/plain": [
              "[('TEXAS', 38, 722871.4211, 38),\n",
              " ('CALIFORNIA', 55, 711723.9636, 93),\n",
              " ('FLORIDA', 29, 699009.3793, 122),\n",
              " ('NEW YORK', 29, 682613.4828, 151),\n",
              " ('NORTH CAROLINA', 15, 669520.1333, 166),\n",
              " ('OHIO', 18, 645190.1667, 184),\n",
              " ('VIRGINIA', 13, 644845.6154, 197),\n",
              " ('ILLINOIS', 20, 642999.75, 217),\n",
              " ('PENNSYLVANIA', 20, 640125.15, 237),\n",
              " ('NEW JERSEY', 14, 639858.0714, 251),\n",
              " ('GEORGIA', 16, 638428.75, 267),\n",
              " ('ARIZONA', 11, 620733.1818, 278),\n",
              " ('MICHIGAN', 16, 620161.0, 294),\n",
              " ('MASSACHUSETTS', 11, 617674.7273, 305),\n",
              " ('MISSOURI', 10, 608367.2, 315),\n",
              " ('COLORADO', 9, 606286.0, 324),\n",
              " ('INDIANA', 11, 601789.0909, 335),\n",
              " ('MARYLAND', 10, 600640.1, 345),\n",
              " ('TENNESSEE', 11, 600027.1818, 356),\n",
              " ('WASHINGTON', 12, 597529.25, 368)]"
            ]
          },
          "metadata": {
            "tags": []
          },
          "execution_count": 128
        }
      ]
    },
    {
      "cell_type": "markdown",
      "metadata": {
        "id": "3MrTaW6a31E_"
      },
      "source": [
        "# **Question Six: Independently, to compute the half of the total of Grand Electors overall**"
      ]
    },
    {
      "cell_type": "code",
      "metadata": {
        "colab": {
          "base_uri": "https://localhost:8080/",
          "height": 95
        },
        "id": "f7HbuS5J4Bd3",
        "outputId": "3d733ef5-a628-45d8-ee9a-6b95567f8871"
      },
      "source": [
        "# Having determined the total number of grand electors\n",
        "# we will now find the half of the total grand electors that will\n",
        "# guarantee our boss the win.\n",
        "%%sql\n",
        "SELECT SUM(GrandElectors)/2 , (Population)/(GrandElectors) as Ratio FROM US_Voters_data"
      ],
      "execution_count": null,
      "outputs": [
        {
          "output_type": "stream",
          "text": [
            " * sqlite://\n",
            "Done.\n"
          ],
          "name": "stdout"
        },
        {
          "output_type": "execute_result",
          "data": {
            "text/html": [
              "<table>\n",
              "    <thead>\n",
              "        <tr>\n",
              "            <th>SUM(GrandElectors)/2</th>\n",
              "            <th>Ratio</th>\n",
              "        </tr>\n",
              "    </thead>\n",
              "    <tbody>\n",
              "        <tr>\n",
              "            <td>269.0</td>\n",
              "            <td>195369.0</td>\n",
              "        </tr>\n",
              "    </tbody>\n",
              "</table>"
            ],
            "text/plain": [
              "[(269.0, 195369.0)]"
            ]
          },
          "metadata": {
            "tags": []
          },
          "execution_count": 98
        }
      ]
    },
    {
      "cell_type": "markdown",
      "metadata": {
        "id": "c0GvT4Cq5VYf"
      },
      "source": [
        "# **Question Seven: Filter our sorted list of states in order to keep only the (top) ones enabling us to reach the computed threshold.**"
      ]
    },
    {
      "cell_type": "code",
      "metadata": {
        "colab": {
          "base_uri": "https://localhost:8080/",
          "height": 95
        },
        "id": "uoeuML9I5e9D",
        "outputId": "8d89563c-068f-4352-dab8-0f595ed83466"
      },
      "source": [
        "# Now that we have determined that to win we need to garner 270 electors votes\n",
        "# or at least 269 electors votes, we will filter our list and drop non-priority states\n",
        "%%sql\n",
        "SELECT SUM(GrandElectors) From US_Voters_data\n",
        "WHERE GrandElectors > 13\n"
      ],
      "execution_count": null,
      "outputs": [
        {
          "output_type": "stream",
          "text": [
            " * sqlite://\n",
            "Done.\n"
          ],
          "name": "stdout"
        },
        {
          "output_type": "execute_result",
          "data": {
            "text/html": [
              "<table>\n",
              "    <thead>\n",
              "        <tr>\n",
              "            <th>SUM(GrandElectors)</th>\n",
              "        </tr>\n",
              "    </thead>\n",
              "    <tbody>\n",
              "        <tr>\n",
              "            <td>270.0</td>\n",
              "        </tr>\n",
              "    </tbody>\n",
              "</table>"
            ],
            "text/plain": [
              "[(270.0,)]"
            ]
          },
          "metadata": {
            "tags": []
          },
          "execution_count": 130
        }
      ]
    },
    {
      "cell_type": "code",
      "metadata": {
        "colab": {
          "base_uri": "https://localhost:8080/",
          "height": 305
        },
        "id": "WqtgeLiN-pRQ",
        "outputId": "6d558e7b-9766-4e8e-a306-7031a631229c"
      },
      "source": [
        "# Lets list the states that meet the above threshhold here below\n",
        "# The list display here under will conatin our target list\n",
        "# If we can convince the voter in these states, then our win is guaranteed.\n",
        "%%sql\n",
        "SELECT State, GrandElectors, Population FROM US_Voters_data\n",
        "WHERE GrandElectors > 13\n",
        "ORDER BY GrandElectors DESC"
      ],
      "execution_count": null,
      "outputs": [
        {
          "output_type": "stream",
          "text": [
            " * sqlite://\n",
            "Done.\n"
          ],
          "name": "stdout"
        },
        {
          "output_type": "execute_result",
          "data": {
            "text/html": [
              "<table>\n",
              "    <thead>\n",
              "        <tr>\n",
              "            <th>State</th>\n",
              "            <th>GrandElectors</th>\n",
              "            <th>Population</th>\n",
              "        </tr>\n",
              "    </thead>\n",
              "    <tbody>\n",
              "        <tr>\n",
              "            <td>CALIFORNIA</td>\n",
              "            <td>55.0</td>\n",
              "            <td>39144818.0</td>\n",
              "        </tr>\n",
              "        <tr>\n",
              "            <td>TEXAS</td>\n",
              "            <td>38.0</td>\n",
              "            <td>27469114.0</td>\n",
              "        </tr>\n",
              "        <tr>\n",
              "            <td>FLORIDA</td>\n",
              "            <td>29.0</td>\n",
              "            <td>20271272.0</td>\n",
              "        </tr>\n",
              "        <tr>\n",
              "            <td>NEW YORK</td>\n",
              "            <td>29.0</td>\n",
              "            <td>19795791.0</td>\n",
              "        </tr>\n",
              "        <tr>\n",
              "            <td>ILLINOIS</td>\n",
              "            <td>20.0</td>\n",
              "            <td>12859995.0</td>\n",
              "        </tr>\n",
              "        <tr>\n",
              "            <td>PENNSYLVANIA</td>\n",
              "            <td>20.0</td>\n",
              "            <td>12802503.0</td>\n",
              "        </tr>\n",
              "        <tr>\n",
              "            <td>OHIO</td>\n",
              "            <td>18.0</td>\n",
              "            <td>11613423.0</td>\n",
              "        </tr>\n",
              "        <tr>\n",
              "            <td>GEORGIA</td>\n",
              "            <td>16.0</td>\n",
              "            <td>10214860.0</td>\n",
              "        </tr>\n",
              "        <tr>\n",
              "            <td>MICHIGAN</td>\n",
              "            <td>16.0</td>\n",
              "            <td>9922576.0</td>\n",
              "        </tr>\n",
              "        <tr>\n",
              "            <td>NORTH CAROLINA</td>\n",
              "            <td>15.0</td>\n",
              "            <td>10042802.0</td>\n",
              "        </tr>\n",
              "        <tr>\n",
              "            <td>NEW JERSEY</td>\n",
              "            <td>14.0</td>\n",
              "            <td>8958013.0</td>\n",
              "        </tr>\n",
              "    </tbody>\n",
              "</table>"
            ],
            "text/plain": [
              "[('CALIFORNIA', 55.0, 39144818.0),\n",
              " ('TEXAS', 38.0, 27469114.0),\n",
              " ('FLORIDA', 29.0, 20271272.0),\n",
              " ('NEW YORK', 29.0, 19795791.0),\n",
              " ('ILLINOIS', 20.0, 12859995.0),\n",
              " ('PENNSYLVANIA', 20.0, 12802503.0),\n",
              " ('OHIO', 18.0, 11613423.0),\n",
              " ('GEORGIA', 16.0, 10214860.0),\n",
              " ('MICHIGAN', 16.0, 9922576.0),\n",
              " ('NORTH CAROLINA', 15.0, 10042802.0),\n",
              " ('NEW JERSEY', 14.0, 8958013.0)]"
            ]
          },
          "metadata": {
            "tags": []
          },
          "execution_count": 101
        }
      ]
    },
    {
      "cell_type": "markdown",
      "metadata": {
        "id": "UH6S-aJHRZp3"
      },
      "source": [
        "**THE END**"
      ]
    }
  ]
}